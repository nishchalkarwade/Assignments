{
 "cells": [
  {
   "cell_type": "markdown",
   "id": "6a053288",
   "metadata": {},
   "source": [
    "# Assignment 3 of ML"
   ]
  },
  {
   "cell_type": "markdown",
   "id": "dfc3598e",
   "metadata": {},
   "source": [
    "# 21-27-10 Data Science"
   ]
  },
  {
   "cell_type": "markdown",
   "id": "db108ac5",
   "metadata": {},
   "source": [
    "Nishchal Karwade"
   ]
  },
  {
   "cell_type": "markdown",
   "id": "e97616c5-4f0a-4874-8b4f-21e2e40b22bb",
   "metadata": {},
   "source": [
    "#### <b>MACHINE LEARNING LAB ASSIGNMENT 3 : POLYNOMIAL REGRESSION</b> <br>"
   ]
  },
  {
   "cell_type": "markdown",
   "id": "e5c8fbe3-cfe5-4a00-b3e0-cd420fd580fc",
   "metadata": {},
   "source": [
    "### Importing the Libraries"
   ]
  },
  {
   "cell_type": "code",
   "execution_count": 1,
   "id": "88b8b47a-940a-42c8-bda5-094a7637ae72",
   "metadata": {},
   "outputs": [],
   "source": [
    "import numpy as np\n",
    "import pandas as pd \n",
    "import matplotlib.pyplot as plt"
   ]
  },
  {
   "cell_type": "markdown",
   "id": "28831e6e-1c8e-4f19-af72-b127731d229d",
   "metadata": {},
   "source": [
    "### <u>Part 1</u> : Considering only first individual feature (size of house)"
   ]
  },
  {
   "cell_type": "markdown",
   "id": "2b963b65-a33f-4839-886f-fdcdf78c3d82",
   "metadata": {},
   "source": [
    "### Importing the dataset"
   ]
  },
  {
   "cell_type": "code",
   "execution_count": 2,
   "id": "ec68d6e2-35df-451c-ad51-fa45bad2a089",
   "metadata": {},
   "outputs": [],
   "source": [
    "dataset = pd.read_csv('Housepriceprediction.csv')\n",
    "x= dataset.iloc[:,1].values\n",
    "y= dataset.iloc[:,-1].values"
   ]
  },
  {
   "cell_type": "code",
   "execution_count": 3,
   "id": "744a0e56-c483-43c4-a276-916693c55e6d",
   "metadata": {},
   "outputs": [
    {
     "name": "stdout",
     "output_type": "stream",
     "text": [
      "(1460,) (1460,)\n"
     ]
    }
   ],
   "source": [
    "print(x.shape, y.shape)"
   ]
  },
  {
   "cell_type": "markdown",
   "id": "20bd7f16-4776-4941-8484-ac4fca15b7fb",
   "metadata": {},
   "source": [
    "### Splitting the dataset into training set and test set"
   ]
  },
  {
   "cell_type": "code",
   "execution_count": 4,
   "id": "ecfd5a8c-0233-4ab6-967c-7f227ec2591d",
   "metadata": {},
   "outputs": [],
   "source": [
    "from sklearn.model_selection import train_test_split\n",
    "x_train, x_test, y_train, y_test = train_test_split(x,y,test_size=0.315, random_state=0)"
   ]
  },
  {
   "cell_type": "code",
   "execution_count": 5,
   "id": "6cbc5888-4b84-4503-98f2-8428465be17b",
   "metadata": {},
   "outputs": [
    {
     "name": "stdout",
     "output_type": "stream",
     "text": [
      "(1000,) (460,)\n",
      "(1000,) (460,)\n"
     ]
    }
   ],
   "source": [
    "print(x_train.shape, x_test.shape)\n",
    "print(y_train.shape,y_test.shape)"
   ]
  },
  {
   "cell_type": "markdown",
   "id": "a016c45a-d768-456c-a974-ab03213041b0",
   "metadata": {},
   "source": [
    "### Training the polymial regression model on the Training dataset"
   ]
  },
  {
   "cell_type": "code",
   "execution_count": 6,
   "id": "fc227471-0c03-4087-8889-f4a0acaf14d1",
   "metadata": {},
   "outputs": [
    {
     "data": {
      "text/plain": [
       "LinearRegression()"
      ]
     },
     "execution_count": 6,
     "metadata": {},
     "output_type": "execute_result"
    }
   ],
   "source": [
    "from sklearn.preprocessing import PolynomialFeatures\n",
    "from sklearn.linear_model import LinearRegression\n",
    "poly_reg1 = PolynomialFeatures(degree=2)\n",
    "poly_reg2 = PolynomialFeatures(degree=3)\n",
    "\n",
    "x_train = x_train.reshape(-1,1)    \n",
    "# print(x_train.shape)\n",
    "\n",
    "x_poly1 = poly_reg1.fit_transform(x_train)\n",
    "x_poly2 = poly_reg2.fit_transform(x_train)\n",
    "\n",
    "reg1 = LinearRegression()\n",
    "reg2 = LinearRegression()\n",
    "# print(x_poly1.shape)\n",
    "# print(x_poly2.shape)\n",
    "reg1.fit(x_poly1, y_train)\n",
    "reg2.fit(x_poly2, y_train)"
   ]
  },
  {
   "cell_type": "markdown",
   "id": "a9270ed9-c7ba-4e58-9386-acb26be4209b",
   "metadata": {},
   "source": [
    "### r2_score calculation"
   ]
  },
  {
   "cell_type": "code",
   "execution_count": 7,
   "id": "52444bf2-96f2-4153-9b96-4f5f2e14f607",
   "metadata": {
    "tags": []
   },
   "outputs": [
    {
     "name": "stdout",
     "output_type": "stream",
     "text": [
      "r2 Score_SingleFeature(polynomial Regression with degree = 2) :  0.14792233315778147\n",
      "r2 Score_SingleFeature(polynomial Regression with degree = 3) :  0.17139959241719405\n"
     ]
    }
   ],
   "source": [
    "x_test = x_test.reshape(-1,1)\n",
    "y_pred1 = reg1.predict(poly_reg1.fit_transform(x_test))\n",
    "y_pred2 = reg2.predict(poly_reg2.fit_transform(x_test))\n",
    "\n",
    "from sklearn.metrics import r2_score\n",
    "print('r2 Score_SingleFeature(polynomial Regression with degree = 2) : ',r2_score(y_test , y_pred1))\n",
    "print('r2 Score_SingleFeature(polynomial Regression with degree = 3) : ',r2_score(y_test , y_pred2))"
   ]
  },
  {
   "cell_type": "markdown",
   "id": "0521001d-f9fc-45f6-b23f-4d9eb6f51f43",
   "metadata": {},
   "source": [
    "<br>\n",
    "<br>"
   ]
  },
  {
   "cell_type": "markdown",
   "id": "532fbca6-3b31-44e4-b693-eac3beb257bd",
   "metadata": {},
   "source": [
    "### <u> Part 2</u> : Considering first two features"
   ]
  },
  {
   "cell_type": "code",
   "execution_count": 8,
   "id": "c094835a-3290-4280-9ea1-ec890f833431",
   "metadata": {},
   "outputs": [],
   "source": [
    "x= dataset.iloc[:,1:3].values\n",
    "y= dataset.iloc[:,-1].values"
   ]
  },
  {
   "cell_type": "markdown",
   "id": "84dd376e-a1b1-4a3e-96dd-cdb93dcce8cc",
   "metadata": {},
   "source": [
    "### Splitting the dataset into training set and test set"
   ]
  },
  {
   "cell_type": "code",
   "execution_count": 9,
   "id": "204206bd-3897-4d3c-a9bf-2b1cb05d0df5",
   "metadata": {},
   "outputs": [
    {
     "name": "stdout",
     "output_type": "stream",
     "text": [
      "(1000, 2) (1000,)\n",
      "(460, 2) (460,)\n"
     ]
    }
   ],
   "source": [
    "from sklearn.model_selection import train_test_split\n",
    "x_train, x_test, y_train, y_test = train_test_split(x,y,random_state=0,test_size=0.315)\n",
    "print(x_train.shape, y_train.shape)\n",
    "print(x_test.shape, y_test.shape)"
   ]
  },
  {
   "cell_type": "markdown",
   "id": "5c6885c4-eac4-4d1b-80b7-cf8b7c96293a",
   "metadata": {},
   "source": [
    "### Performing Feature Scaling"
   ]
  },
  {
   "cell_type": "code",
   "execution_count": 10,
   "id": "4a1b18a5-1eb1-4943-b924-3392b0ae28d3",
   "metadata": {},
   "outputs": [
    {
     "name": "stdout",
     "output_type": "stream",
     "text": [
      "(1000, 2) (1000, 1)\n",
      "(460, 2) (460, 1)\n"
     ]
    }
   ],
   "source": [
    "from sklearn.preprocessing import StandardScaler\n",
    "sc = StandardScaler()\n",
    "x_train = sc.fit_transform(x_train)\n",
    "x_test = sc.fit_transform(x_test)\n",
    "\n",
    "y_train = y_train.reshape(len(y_train),1)      # Conerting to 2D array\n",
    "y_test = y_test.reshape(len(y_test),1)\n",
    "\n",
    "y_train = sc.fit_transform(y_train)    # Takes input as 2D Array\n",
    "y_test = sc.fit_transform(y_test)\n",
    "\n",
    "print(x_train.shape, y_train.shape)\n",
    "print(x_test.shape, y_test.shape)"
   ]
  },
  {
   "cell_type": "markdown",
   "id": "bf22864c-f1a0-42b3-bdb9-1b3b3e5bd179",
   "metadata": {},
   "source": [
    "### Training the polymial regression model on the Training dataset"
   ]
  },
  {
   "cell_type": "code",
   "execution_count": 11,
   "id": "d0958f35-d081-4bb2-bd84-c1df98f16342",
   "metadata": {},
   "outputs": [
    {
     "data": {
      "text/plain": [
       "LinearRegression()"
      ]
     },
     "execution_count": 11,
     "metadata": {},
     "output_type": "execute_result"
    }
   ],
   "source": [
    "from sklearn.preprocessing import PolynomialFeatures\n",
    "poly_reg1 = PolynomialFeatures(degree=2)\n",
    "poly_reg2 = PolynomialFeatures(degree=3)\n",
    "\n",
    "x_poly1 = poly_reg1.fit_transform(x_train)\n",
    "x_poly2 = poly_reg2.fit_transform(x_train)\n",
    "\n",
    "from sklearn.linear_model import LinearRegression\n",
    "reg1 = LinearRegression()\n",
    "reg2 = LinearRegression()\n",
    "\n",
    "reg1.fit(x_poly1,y_train)\n",
    "reg2.fit(x_poly2,y_train)"
   ]
  },
  {
   "cell_type": "markdown",
   "id": "a003069b-9986-4dd2-97bc-4eee8bf806b6",
   "metadata": {},
   "source": [
    "### r2_score calculation"
   ]
  },
  {
   "cell_type": "code",
   "execution_count": 12,
   "id": "ce6c26bf-f519-47a0-84bc-9afab57ce346",
   "metadata": {},
   "outputs": [
    {
     "name": "stdout",
     "output_type": "stream",
     "text": [
      "r2 Score_TwoFeatures(polynomial Regression with degree = 2) :  0.6525490309081756\n",
      "r2 Score_TwoFeatures(polynomial Regression with degree = 3) :  0.7052397118251499\n"
     ]
    }
   ],
   "source": [
    "from sklearn.metrics import r2_score\n",
    "\n",
    "y_pred1 = reg1.predict(poly_reg1.fit_transform(x_test))\n",
    "y_pred2 = reg2.predict(poly_reg2.fit_transform(x_test))\n",
    "print('r2 Score_TwoFeatures(polynomial Regression with degree = 2) : ',r2_score(y_pred1,y_test))\n",
    "print('r2 Score_TwoFeatures(polynomial Regression with degree = 3) : ', r2_score(y_pred2,y_test))"
   ]
  },
  {
   "cell_type": "code",
   "execution_count": null,
   "id": "24784678",
   "metadata": {},
   "outputs": [],
   "source": []
  }
 ],
 "metadata": {
  "kernelspec": {
   "display_name": "Python 3 (ipykernel)",
   "language": "python",
   "name": "python3"
  },
  "language_info": {
   "codemirror_mode": {
    "name": "ipython",
    "version": 3
   },
   "file_extension": ".py",
   "mimetype": "text/x-python",
   "name": "python",
   "nbconvert_exporter": "python",
   "pygments_lexer": "ipython3",
   "version": "3.9.7"
  }
 },
 "nbformat": 4,
 "nbformat_minor": 5
}
